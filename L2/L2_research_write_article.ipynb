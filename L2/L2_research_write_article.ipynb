{
 "cells": [
  {
   "cell_type": "markdown",
   "metadata": {},
   "source": [
    "You can download the `requirements.txt` for this course from the workspace of this lab. `File --> Open...`"
   ]
  },
  {
   "cell_type": "markdown",
   "metadata": {},
   "source": [
    "# L2: Create Agents to Research and Write an Article\n",
    "\n",
    "In this lesson, you will be introduced to the foundational concepts of multi-agent systems and get an overview of the crewAI framework."
   ]
  },
  {
   "cell_type": "markdown",
   "metadata": {},
   "source": [
    "The libraries are already installed in the classroom. If you're running this notebook on your own machine, you can install the following:\n",
    "```Python\n",
    "!pip install crewai==0.28.8 crewai_tools==0.1.6 langchain_community==0.0.29\n",
    "```"
   ]
  },
  {
   "cell_type": "code",
   "execution_count": 1,
   "metadata": {
    "height": 64
   },
   "outputs": [],
   "source": [
    "# Warning control\n",
    "import warnings\n",
    "warnings.filterwarnings('ignore')"
   ]
  },
  {
   "cell_type": "markdown",
   "metadata": {},
   "source": [
    "- Import from the crewAI libray."
   ]
  },
  {
   "cell_type": "code",
   "execution_count": 2,
   "metadata": {
    "height": 30
   },
   "outputs": [],
   "source": [
    "from crewai import Agent, Task, Crew"
   ]
  },
  {
   "cell_type": "markdown",
   "metadata": {},
   "source": [
    "- As a LLM for your agents, you'll be using OpenAI's `gpt-3.5-turbo`.\n",
    "\n",
    "**Optional Note:** crewAI also allow other popular models to be used as a LLM for your Agents. You can see some of the examples at the [bottom of the notebook](#1)."
   ]
  },
  {
   "cell_type": "code",
   "execution_count": 3,
   "metadata": {
    "height": 98
   },
   "outputs": [],
   "source": [
    "import os\n",
    "from utils import get_openai_api_key\n",
    "\n",
    "openai_api_key = get_openai_api_key()\n",
    "os.environ[\"OPENAI_MODEL_NAME\"] = 'gpt-3.5-turbo'"
   ]
  },
  {
   "cell_type": "markdown",
   "metadata": {},
   "source": [
    "## Creating Agents\n",
    "\n",
    "- Define your Agents, and provide them a `role`, `goal` and `backstory`.\n",
    "- It has been seen that LLMs perform better when they are role playing."
   ]
  },
  {
   "cell_type": "markdown",
   "metadata": {},
   "source": [
    "### Agent: Planner\n",
    "\n",
    "**Note**: The benefit of using _multiple strings_ :\n",
    "```Python\n",
    "varname = \"line 1 of text\"\n",
    "          \"line 2 of text\"\n",
    "```\n",
    "\n",
    "versus the _triple quote docstring_:\n",
    "```Python\n",
    "varname = \"\"\"line 1 of text\n",
    "             line 2 of text\n",
    "          \"\"\"\n",
    "```\n",
    "is that it can avoid adding those whitespaces and newline characters, making it better formatted to be passed to the LLM."
   ]
  },
  {
   "cell_type": "code",
   "execution_count": 4,
   "metadata": {
    "height": 234
   },
   "outputs": [],
   "source": [
    "planner = Agent(\n",
    "    role=\"Content Planner\",\n",
    "    goal=\"Plan engaging and factually accurate content on {topic}\",\n",
    "    backstory=\"You're working on planning a blog article \"\n",
    "              \"about the topic: {topic}.\"\n",
    "              \"You collect information that helps the \"\n",
    "              \"audience learn something \"\n",
    "              \"and make informed decisions. \"\n",
    "              \"Your work is the basis for \"\n",
    "              \"the Content Writer to write an article on this topic.\",\n",
    "    allow_delegation=False,\n",
    "\tverbose=True\n",
    ")"
   ]
  },
  {
   "cell_type": "markdown",
   "metadata": {},
   "source": [
    "### Agent: Writer"
   ]
  },
  {
   "cell_type": "code",
   "execution_count": 5,
   "metadata": {
    "height": 370
   },
   "outputs": [],
   "source": [
    "writer = Agent(\n",
    "    role=\"Content Writer\",\n",
    "    goal=\"Write insightful and factually accurate \"\n",
    "         \"opinion piece about the topic: {topic}\",\n",
    "    backstory=\"You're working on a writing \"\n",
    "              \"a new opinion piece about the topic: {topic}. \"\n",
    "              \"You base your writing on the work of \"\n",
    "              \"the Content Planner, who provides an outline \"\n",
    "              \"and relevant context about the topic. \"\n",
    "              \"You follow the main objectives and \"\n",
    "              \"direction of the outline, \"\n",
    "              \"as provide by the Content Planner. \"\n",
    "              \"You also provide objective and impartial insights \"\n",
    "              \"and back them up with information \"\n",
    "              \"provide by the Content Planner. \"\n",
    "              \"You acknowledge in your opinion piece \"\n",
    "              \"when your statements are opinions \"\n",
    "              \"as opposed to objective statements.\",\n",
    "    allow_delegation=False,\n",
    "    verbose=True\n",
    ")"
   ]
  },
  {
   "cell_type": "markdown",
   "metadata": {},
   "source": [
    "### Agent: Editor"
   ]
  },
  {
   "cell_type": "code",
   "execution_count": 6,
   "metadata": {
    "height": 268
   },
   "outputs": [],
   "source": [
    "editor = Agent(\n",
    "    role=\"Editor\",\n",
    "    goal=\"Edit a given blog post to align with \"\n",
    "         \"the writing style of the organization. \",\n",
    "    backstory=\"You are an editor who receives a blog post \"\n",
    "              \"from the Content Writer. \"\n",
    "              \"Your goal is to review the blog post \"\n",
    "              \"to ensure that it follows journalistic best practices,\"\n",
    "              \"provides balanced viewpoints \"\n",
    "              \"when providing opinions or assertions, \"\n",
    "              \"and also avoids major controversial topics \"\n",
    "              \"or opinions when possible.\",\n",
    "    allow_delegation=False,\n",
    "    verbose=True\n",
    ")"
   ]
  },
  {
   "cell_type": "markdown",
   "metadata": {},
   "source": [
    "## Creating Tasks\n",
    "\n",
    "- Define your Tasks, and provide them a `description`, `expected_output` and `agent`."
   ]
  },
  {
   "cell_type": "markdown",
   "metadata": {},
   "source": [
    "### Task: Plan"
   ]
  },
  {
   "cell_type": "code",
   "execution_count": 7,
   "metadata": {
    "height": 268
   },
   "outputs": [],
   "source": [
    "plan = Task(\n",
    "    description=(\n",
    "        \"1. Prioritize the latest trends, key players, \"\n",
    "            \"and noteworthy news on {topic}.\\n\"\n",
    "        \"2. Identify the target audience, considering \"\n",
    "            \"their interests and pain points.\\n\"\n",
    "        \"3. Develop a detailed content outline including \"\n",
    "            \"an introduction, key points, and a call to action.\\n\"\n",
    "        \"4. Include SEO keywords and relevant data or sources.\"\n",
    "    ),\n",
    "    expected_output=\"A comprehensive content plan document \"\n",
    "        \"with an outline, audience analysis, \"\n",
    "        \"SEO keywords, and resources.\",\n",
    "    agent=planner,\n",
    ")"
   ]
  },
  {
   "cell_type": "markdown",
   "metadata": {},
   "source": [
    "### Task: Write"
   ]
  },
  {
   "cell_type": "code",
   "execution_count": 8,
   "metadata": {
    "height": 319
   },
   "outputs": [],
   "source": [
    "write = Task(\n",
    "    description=(\n",
    "        \"1. Use the content plan to craft a compelling \"\n",
    "            \"blog post on {topic}.\\n\"\n",
    "        \"2. Incorporate SEO keywords naturally.\\n\"\n",
    "\t\t\"3. Sections/Subtitles are properly named \"\n",
    "            \"in an engaging manner.\\n\"\n",
    "        \"4. Ensure the post is structured with an \"\n",
    "            \"engaging introduction, insightful body, \"\n",
    "            \"and a summarizing conclusion.\\n\"\n",
    "        \"5. Proofread for grammatical errors and \"\n",
    "            \"alignment with the brand's voice.\\n\"\n",
    "    ),\n",
    "    expected_output=\"A well-written blog post \"\n",
    "        \"in markdown format, ready for publication, \"\n",
    "        \"each section should have 2 or 3 paragraphs.\",\n",
    "    agent=writer,\n",
    ")"
   ]
  },
  {
   "cell_type": "markdown",
   "metadata": {},
   "source": [
    "### Task: Edit"
   ]
  },
  {
   "cell_type": "code",
   "execution_count": 9,
   "metadata": {
    "height": 166
   },
   "outputs": [],
   "source": [
    "edit = Task(\n",
    "    description=(\"Proofread the given blog post for \"\n",
    "                 \"grammatical errors and \"\n",
    "                 \"alignment with the brand's voice.\"),\n",
    "    expected_output=\"A well-written blog post in markdown format, \"\n",
    "                    \"ready for publication, \"\n",
    "                    \"each section should have 2 or 3 paragraphs.\",\n",
    "    agent=editor\n",
    ")"
   ]
  },
  {
   "cell_type": "markdown",
   "metadata": {},
   "source": [
    "## Creating the Crew\n",
    "\n",
    "- Create your crew of Agents\n",
    "- Pass the tasks to be performed by those agents.\n",
    "    - **Note**: *For this simple example*, the tasks will be performed sequentially (i.e they are dependent on each other), so the _order_ of the task in the list _matters_.\n",
    "- `verbose=2` allows you to see all the logs of the execution. "
   ]
  },
  {
   "cell_type": "code",
   "execution_count": 10,
   "metadata": {
    "height": 98
   },
   "outputs": [],
   "source": [
    "crew = Crew(\n",
    "    agents=[planner, writer, editor],\n",
    "    tasks=[plan, write, edit],\n",
    "    verbose=2\n",
    ")"
   ]
  },
  {
   "cell_type": "markdown",
   "metadata": {},
   "source": [
    "## Running the Crew"
   ]
  },
  {
   "cell_type": "markdown",
   "metadata": {},
   "source": [
    "**Note**: LLMs can provide different outputs for they same input, so what you get might be different than what you see in the video."
   ]
  },
  {
   "cell_type": "code",
   "execution_count": 11,
   "metadata": {
    "height": 30
   },
   "outputs": [
    {
     "name": "stdout",
     "output_type": "stream",
     "text": [
      "\u001b[1m\u001b[95m [DEBUG]: == Working Agent: Content Planner\u001b[00m\n",
      "\u001b[1m\u001b[95m [INFO]: == Starting Task: 1. Prioritize the latest trends, key players, and noteworthy news on Artificial Intelligence.\n",
      "2. Identify the target audience, considering their interests and pain points.\n",
      "3. Develop a detailed content outline including an introduction, key points, and a call to action.\n",
      "4. Include SEO keywords and relevant data or sources.\u001b[00m\n",
      "\n",
      "\n",
      "\u001b[1m> Entering new CrewAgentExecutor chain...\u001b[0m\n",
      "\u001b[32;1m\u001b[1;3mI now can give a great answer\n",
      "\n",
      "Final Answer: \n",
      "\n",
      "Title: The Future of Artificial Intelligence: Trends, Players, and Impact\n",
      "\n",
      "Introduction:\n",
      "- Brief overview of Artificial Intelligence (AI) and its rapid evolution in various industries\n",
      "- Mention of the latest trends and advancements in AI technology\n",
      "- Explanation of the importance of staying informed about AI developments\n",
      "\n",
      "Key Points:\n",
      "1. Latest Trends in AI:\n",
      "- Machine learning and deep learning advancements\n",
      "- Natural language processing and conversational AI\n",
      "- AI ethics and responsible AI development\n",
      "- AI-powered automation in industries such as healthcare, finance, and retail\n",
      "\n",
      "2. Key Players in the AI Industry:\n",
      "- Major tech companies like Google, Microsoft, and IBM leading AI research and development\n",
      "- Startups disrupting traditional industries with AI solutions\n",
      "- Academic institutions contributing to AI innovation\n",
      "\n",
      "3. Noteworthy News in AI:\n",
      "- Recent breakthroughs in AI research\n",
      "- AI applications making a significant impact on society\n",
      "- Regulatory developments shaping the future of AI\n",
      "\n",
      "Audience Analysis:\n",
      "- Target Audience: Professionals in technology, business leaders, students interested in AI\n",
      "- Interests: Cutting-edge technology, AI applications in different industries, future implications of AI\n",
      "- Pain Points: Understanding complex AI concepts, staying updated on the latest trends in AI, navigating ethical considerations in AI development\n",
      "\n",
      "Content Outline:\n",
      "1. Introduction to AI\n",
      "2. Latest Trends in AI\n",
      "3. Key Players in the AI Industry\n",
      "4. Noteworthy News in AI\n",
      "5. Impact of AI on Society\n",
      "6. Ethical Considerations in AI Development\n",
      "7. Call to Action: Stay Informed and Engage with AI Community\n",
      "\n",
      "SEO Keywords:\n",
      "- Artificial Intelligence trends\n",
      "- Key players in AI industry\n",
      "- Latest news in Artificial Intelligence\n",
      "- AI impact on society\n",
      "- Ethical AI development\n",
      "\n",
      "Resources:\n",
      "- Forbes: AI Trends to Watch in 2021\n",
      "- MIT Technology Review: The Ethics of AI\n",
      "- World Economic Forum: Shaping the Future of Artificial Intelligence\n",
      "\n",
      "This comprehensive content plan aims to provide valuable insights into the latest trends, key players, and impact of Artificial Intelligence, catering to the interests and pain points of the target audience while incorporating relevant SEO keywords and resources for a well-rounded article on AI.\u001b[0m\n",
      "\n",
      "\u001b[1m> Finished chain.\u001b[0m\n",
      "\u001b[1m\u001b[92m [DEBUG]: == [Content Planner] Task output: Title: The Future of Artificial Intelligence: Trends, Players, and Impact\n",
      "\n",
      "Introduction:\n",
      "- Brief overview of Artificial Intelligence (AI) and its rapid evolution in various industries\n",
      "- Mention of the latest trends and advancements in AI technology\n",
      "- Explanation of the importance of staying informed about AI developments\n",
      "\n",
      "Key Points:\n",
      "1. Latest Trends in AI:\n",
      "- Machine learning and deep learning advancements\n",
      "- Natural language processing and conversational AI\n",
      "- AI ethics and responsible AI development\n",
      "- AI-powered automation in industries such as healthcare, finance, and retail\n",
      "\n",
      "2. Key Players in the AI Industry:\n",
      "- Major tech companies like Google, Microsoft, and IBM leading AI research and development\n",
      "- Startups disrupting traditional industries with AI solutions\n",
      "- Academic institutions contributing to AI innovation\n",
      "\n",
      "3. Noteworthy News in AI:\n",
      "- Recent breakthroughs in AI research\n",
      "- AI applications making a significant impact on society\n",
      "- Regulatory developments shaping the future of AI\n",
      "\n",
      "Audience Analysis:\n",
      "- Target Audience: Professionals in technology, business leaders, students interested in AI\n",
      "- Interests: Cutting-edge technology, AI applications in different industries, future implications of AI\n",
      "- Pain Points: Understanding complex AI concepts, staying updated on the latest trends in AI, navigating ethical considerations in AI development\n",
      "\n",
      "Content Outline:\n",
      "1. Introduction to AI\n",
      "2. Latest Trends in AI\n",
      "3. Key Players in the AI Industry\n",
      "4. Noteworthy News in AI\n",
      "5. Impact of AI on Society\n",
      "6. Ethical Considerations in AI Development\n",
      "7. Call to Action: Stay Informed and Engage with AI Community\n",
      "\n",
      "SEO Keywords:\n",
      "- Artificial Intelligence trends\n",
      "- Key players in AI industry\n",
      "- Latest news in Artificial Intelligence\n",
      "- AI impact on society\n",
      "- Ethical AI development\n",
      "\n",
      "Resources:\n",
      "- Forbes: AI Trends to Watch in 2021\n",
      "- MIT Technology Review: The Ethics of AI\n",
      "- World Economic Forum: Shaping the Future of Artificial Intelligence\n",
      "\n",
      "This comprehensive content plan aims to provide valuable insights into the latest trends, key players, and impact of Artificial Intelligence, catering to the interests and pain points of the target audience while incorporating relevant SEO keywords and resources for a well-rounded article on AI.\n",
      "\n",
      "\u001b[00m\n",
      "\u001b[1m\u001b[95m [DEBUG]: == Working Agent: Content Writer\u001b[00m\n",
      "\u001b[1m\u001b[95m [INFO]: == Starting Task: 1. Use the content plan to craft a compelling blog post on Artificial Intelligence.\n",
      "2. Incorporate SEO keywords naturally.\n",
      "3. Sections/Subtitles are properly named in an engaging manner.\n",
      "4. Ensure the post is structured with an engaging introduction, insightful body, and a summarizing conclusion.\n",
      "5. Proofread for grammatical errors and alignment with the brand's voice.\n",
      "\u001b[00m\n",
      "\n",
      "\n",
      "\u001b[1m> Entering new CrewAgentExecutor chain...\u001b[0m\n",
      "\u001b[32;1m\u001b[1;3mI now can give a great answer\n",
      "\n",
      "Final Answer: \n",
      "\n",
      "# The Future of Artificial Intelligence: Trends, Players, and Impact\n",
      "\n",
      "## Introduction to AI\n",
      "\n",
      "Artificial Intelligence (AI) has rapidly evolved over the years, transforming various industries and shaping the future of technology. From machine learning and deep learning advancements to natural language processing and conversational AI, the latest trends in AI are revolutionizing how we interact with technology. It is crucial to stay informed about AI developments to understand its impact on society and the ethical considerations surrounding its development.\n",
      "\n",
      "## Latest Trends in AI\n",
      "\n",
      "Machine learning and deep learning are at the forefront of AI advancements, allowing machines to learn from data and improve their performance over time. Natural language processing and conversational AI are enabling more seamless interactions between humans and machines, making AI more accessible and user-friendly. Moreover, the focus on AI ethics and responsible AI development is gaining traction, emphasizing the importance of ethical considerations in creating AI systems. AI-powered automation is also making a significant impact on industries such as healthcare, finance, and retail, streamlining processes and increasing efficiency.\n",
      "\n",
      "## Key Players in the AI Industry\n",
      "\n",
      "Major tech companies like Google, Microsoft, and IBM are leading the way in AI research and development, pushing the boundaries of what AI can achieve. Startups are also disrupting traditional industries with innovative AI solutions, bringing new perspectives and approaches to the table. Academic institutions play a crucial role in contributing to AI innovation, fostering collaboration and knowledge-sharing in the AI community.\n",
      "\n",
      "## Noteworthy News in AI\n",
      "\n",
      "Recent breakthroughs in AI research are paving the way for new possibilities and applications in various sectors. AI applications are making a significant impact on society, from improving healthcare outcomes to enhancing customer experiences. Regulatory developments are also shaping the future of AI, ensuring that AI technologies are developed and deployed responsibly.\n",
      "\n",
      "## Impact of AI on Society\n",
      "\n",
      "The impact of AI on society is profound, influencing how we work, communicate, and live. As AI continues to advance, it is essential to consider its implications on jobs, privacy, and social interactions. Understanding the potential benefits and challenges of AI is crucial for navigating the future landscape of technology.\n",
      "\n",
      "## Ethical Considerations in AI Development\n",
      "\n",
      "Ethical considerations in AI development are paramount, as AI technologies have the power to shape society in significant ways. From bias in AI algorithms to data privacy concerns, addressing ethical issues in AI is critical for building trust and ensuring responsible AI deployment. By prioritizing ethical considerations, we can create AI systems that benefit society as a whole.\n",
      "\n",
      "## Call to Action: Stay Informed and Engage with AI Community\n",
      "\n",
      "To stay informed about the latest trends and developments in AI, it is essential to engage with the AI community, participate in discussions, and collaborate on ethical AI practices. By staying informed and actively engaging with AI stakeholders, we can shape the future of AI in a responsible and impactful way.\n",
      "\n",
      "In conclusion, Artificial Intelligence is a dynamic and evolving field that holds immense potential for transforming industries and society as a whole. By staying informed about the latest trends, key players, and impact of AI, we can navigate the complex landscape of AI development and make informed decisions about its future. Let's embrace the opportunities that AI presents while also addressing the ethical considerations that come with it.\u001b[0m\n",
      "\n",
      "\u001b[1m> Finished chain.\u001b[0m\n",
      "\u001b[1m\u001b[92m [DEBUG]: == [Content Writer] Task output: # The Future of Artificial Intelligence: Trends, Players, and Impact\n",
      "\n",
      "## Introduction to AI\n",
      "\n",
      "Artificial Intelligence (AI) has rapidly evolved over the years, transforming various industries and shaping the future of technology. From machine learning and deep learning advancements to natural language processing and conversational AI, the latest trends in AI are revolutionizing how we interact with technology. It is crucial to stay informed about AI developments to understand its impact on society and the ethical considerations surrounding its development.\n",
      "\n",
      "## Latest Trends in AI\n",
      "\n",
      "Machine learning and deep learning are at the forefront of AI advancements, allowing machines to learn from data and improve their performance over time. Natural language processing and conversational AI are enabling more seamless interactions between humans and machines, making AI more accessible and user-friendly. Moreover, the focus on AI ethics and responsible AI development is gaining traction, emphasizing the importance of ethical considerations in creating AI systems. AI-powered automation is also making a significant impact on industries such as healthcare, finance, and retail, streamlining processes and increasing efficiency.\n",
      "\n",
      "## Key Players in the AI Industry\n",
      "\n",
      "Major tech companies like Google, Microsoft, and IBM are leading the way in AI research and development, pushing the boundaries of what AI can achieve. Startups are also disrupting traditional industries with innovative AI solutions, bringing new perspectives and approaches to the table. Academic institutions play a crucial role in contributing to AI innovation, fostering collaboration and knowledge-sharing in the AI community.\n",
      "\n",
      "## Noteworthy News in AI\n",
      "\n",
      "Recent breakthroughs in AI research are paving the way for new possibilities and applications in various sectors. AI applications are making a significant impact on society, from improving healthcare outcomes to enhancing customer experiences. Regulatory developments are also shaping the future of AI, ensuring that AI technologies are developed and deployed responsibly.\n",
      "\n",
      "## Impact of AI on Society\n",
      "\n",
      "The impact of AI on society is profound, influencing how we work, communicate, and live. As AI continues to advance, it is essential to consider its implications on jobs, privacy, and social interactions. Understanding the potential benefits and challenges of AI is crucial for navigating the future landscape of technology.\n",
      "\n",
      "## Ethical Considerations in AI Development\n",
      "\n",
      "Ethical considerations in AI development are paramount, as AI technologies have the power to shape society in significant ways. From bias in AI algorithms to data privacy concerns, addressing ethical issues in AI is critical for building trust and ensuring responsible AI deployment. By prioritizing ethical considerations, we can create AI systems that benefit society as a whole.\n",
      "\n",
      "## Call to Action: Stay Informed and Engage with AI Community\n",
      "\n",
      "To stay informed about the latest trends and developments in AI, it is essential to engage with the AI community, participate in discussions, and collaborate on ethical AI practices. By staying informed and actively engaging with AI stakeholders, we can shape the future of AI in a responsible and impactful way.\n",
      "\n",
      "In conclusion, Artificial Intelligence is a dynamic and evolving field that holds immense potential for transforming industries and society as a whole. By staying informed about the latest trends, key players, and impact of AI, we can navigate the complex landscape of AI development and make informed decisions about its future. Let's embrace the opportunities that AI presents while also addressing the ethical considerations that come with it.\n",
      "\n",
      "\u001b[00m\n",
      "\u001b[1m\u001b[95m [DEBUG]: == Working Agent: Editor\u001b[00m\n",
      "\u001b[1m\u001b[95m [INFO]: == Starting Task: Proofread the given blog post for grammatical errors and alignment with the brand's voice.\u001b[00m\n",
      "\n",
      "\n",
      "\u001b[1m> Entering new CrewAgentExecutor chain...\u001b[0m\n"
     ]
    },
    {
     "name": "stdout",
     "output_type": "stream",
     "text": [
      "\u001b[32;1m\u001b[1;3mI now can give a great answer\n",
      "\n",
      "Final Answer:\n",
      "\n",
      "# The Future of Artificial Intelligence: Trends, Players, and Impact\n",
      "\n",
      "## Introduction to AI\n",
      "\n",
      "Artificial Intelligence (AI) has rapidly evolved over the years, transforming various industries and shaping the future of technology. From machine learning and deep learning advancements to natural language processing and conversational AI, the latest trends in AI are revolutionizing how we interact with technology. Staying informed about AI developments is crucial to understanding its impact on society and the ethical considerations surrounding its development.\n",
      "\n",
      "## Latest Trends in AI\n",
      "\n",
      "Machine learning and deep learning are at the forefront of AI advancements, allowing machines to learn from data and improve their performance over time. Natural language processing and conversational AI are enabling more seamless interactions between humans and machines, making AI more accessible and user-friendly. The focus on AI ethics and responsible AI development is gaining traction, emphasizing the importance of ethical considerations in creating AI systems. AI-powered automation is also making a significant impact on industries such as healthcare, finance, and retail, streamlining processes and increasing efficiency.\n",
      "\n",
      "## Key Players in the AI Industry\n",
      "\n",
      "Major tech companies like Google, Microsoft, and IBM are leading the way in AI research and development, pushing the boundaries of what AI can achieve. Startups are also disrupting traditional industries with innovative AI solutions, bringing new perspectives and approaches to the table. Academic institutions play a crucial role in contributing to AI innovation, fostering collaboration and knowledge-sharing in the AI community.\n",
      "\n",
      "## Noteworthy News in AI\n",
      "\n",
      "Recent breakthroughs in AI research are paving the way for new possibilities and applications in various sectors. AI applications are making a significant impact on society, from improving healthcare outcomes to enhancing customer experiences. Regulatory developments are also shaping the future of AI, ensuring that AI technologies are developed and deployed responsibly.\n",
      "\n",
      "## Impact of AI on Society\n",
      "\n",
      "The impact of AI on society is profound, influencing how we work, communicate, and live. As AI continues to advance, it is essential to consider its implications on jobs, privacy, and social interactions. Understanding the potential benefits and challenges of AI is crucial for navigating the future landscape of technology.\n",
      "\n",
      "## Ethical Considerations in AI Development\n",
      "\n",
      "Ethical considerations in AI development are paramount, as AI technologies have the power to shape society in significant ways. From bias in AI algorithms to data privacy concerns, addressing ethical issues in AI is critical for building trust and ensuring responsible AI deployment. By prioritizing ethical considerations, we can create AI systems that benefit society as a whole.\n",
      "\n",
      "## Call to Action: Stay Informed and Engage with AI Community\n",
      "\n",
      "To stay informed about the latest trends and developments in AI, it is essential to engage with the AI community, participate in discussions, and collaborate on ethical AI practices. By staying informed and actively engaging with AI stakeholders, we can shape the future of AI in a responsible and impactful way.\n",
      "\n",
      "In conclusion, Artificial Intelligence is a dynamic and evolving field that holds immense potential for transforming industries and society as a whole. By staying informed about the latest trends, key players, and impact of AI, we can navigate the complex landscape of AI development and make informed decisions about its future. Let's embrace the opportunities that AI presents while also addressing the ethical considerations that come with it.\u001b[0m\n",
      "\n",
      "\u001b[1m> Finished chain.\u001b[0m\n",
      "\u001b[1m\u001b[92m [DEBUG]: == [Editor] Task output: # The Future of Artificial Intelligence: Trends, Players, and Impact\n",
      "\n",
      "## Introduction to AI\n",
      "\n",
      "Artificial Intelligence (AI) has rapidly evolved over the years, transforming various industries and shaping the future of technology. From machine learning and deep learning advancements to natural language processing and conversational AI, the latest trends in AI are revolutionizing how we interact with technology. Staying informed about AI developments is crucial to understanding its impact on society and the ethical considerations surrounding its development.\n",
      "\n",
      "## Latest Trends in AI\n",
      "\n",
      "Machine learning and deep learning are at the forefront of AI advancements, allowing machines to learn from data and improve their performance over time. Natural language processing and conversational AI are enabling more seamless interactions between humans and machines, making AI more accessible and user-friendly. The focus on AI ethics and responsible AI development is gaining traction, emphasizing the importance of ethical considerations in creating AI systems. AI-powered automation is also making a significant impact on industries such as healthcare, finance, and retail, streamlining processes and increasing efficiency.\n",
      "\n",
      "## Key Players in the AI Industry\n",
      "\n",
      "Major tech companies like Google, Microsoft, and IBM are leading the way in AI research and development, pushing the boundaries of what AI can achieve. Startups are also disrupting traditional industries with innovative AI solutions, bringing new perspectives and approaches to the table. Academic institutions play a crucial role in contributing to AI innovation, fostering collaboration and knowledge-sharing in the AI community.\n",
      "\n",
      "## Noteworthy News in AI\n",
      "\n",
      "Recent breakthroughs in AI research are paving the way for new possibilities and applications in various sectors. AI applications are making a significant impact on society, from improving healthcare outcomes to enhancing customer experiences. Regulatory developments are also shaping the future of AI, ensuring that AI technologies are developed and deployed responsibly.\n",
      "\n",
      "## Impact of AI on Society\n",
      "\n",
      "The impact of AI on society is profound, influencing how we work, communicate, and live. As AI continues to advance, it is essential to consider its implications on jobs, privacy, and social interactions. Understanding the potential benefits and challenges of AI is crucial for navigating the future landscape of technology.\n",
      "\n",
      "## Ethical Considerations in AI Development\n",
      "\n",
      "Ethical considerations in AI development are paramount, as AI technologies have the power to shape society in significant ways. From bias in AI algorithms to data privacy concerns, addressing ethical issues in AI is critical for building trust and ensuring responsible AI deployment. By prioritizing ethical considerations, we can create AI systems that benefit society as a whole.\n",
      "\n",
      "## Call to Action: Stay Informed and Engage with AI Community\n",
      "\n",
      "To stay informed about the latest trends and developments in AI, it is essential to engage with the AI community, participate in discussions, and collaborate on ethical AI practices. By staying informed and actively engaging with AI stakeholders, we can shape the future of AI in a responsible and impactful way.\n",
      "\n",
      "In conclusion, Artificial Intelligence is a dynamic and evolving field that holds immense potential for transforming industries and society as a whole. By staying informed about the latest trends, key players, and impact of AI, we can navigate the complex landscape of AI development and make informed decisions about its future. Let's embrace the opportunities that AI presents while also addressing the ethical considerations that come with it.\n",
      "\n",
      "\u001b[00m\n"
     ]
    }
   ],
   "source": [
    "result = crew.kickoff(inputs={\"topic\": \"Artificial Intelligence\"})"
   ]
  },
  {
   "cell_type": "markdown",
   "metadata": {},
   "source": [
    "- Display the results of your execution as markdown in the notebook."
   ]
  },
  {
   "cell_type": "code",
   "execution_count": 12,
   "metadata": {
    "height": 47
   },
   "outputs": [
    {
     "data": {
      "text/markdown": [
       "# The Future of Artificial Intelligence: Trends, Players, and Impact\n",
       "\n",
       "## Introduction to AI\n",
       "\n",
       "Artificial Intelligence (AI) has rapidly evolved over the years, transforming various industries and shaping the future of technology. From machine learning and deep learning advancements to natural language processing and conversational AI, the latest trends in AI are revolutionizing how we interact with technology. Staying informed about AI developments is crucial to understanding its impact on society and the ethical considerations surrounding its development.\n",
       "\n",
       "## Latest Trends in AI\n",
       "\n",
       "Machine learning and deep learning are at the forefront of AI advancements, allowing machines to learn from data and improve their performance over time. Natural language processing and conversational AI are enabling more seamless interactions between humans and machines, making AI more accessible and user-friendly. The focus on AI ethics and responsible AI development is gaining traction, emphasizing the importance of ethical considerations in creating AI systems. AI-powered automation is also making a significant impact on industries such as healthcare, finance, and retail, streamlining processes and increasing efficiency.\n",
       "\n",
       "## Key Players in the AI Industry\n",
       "\n",
       "Major tech companies like Google, Microsoft, and IBM are leading the way in AI research and development, pushing the boundaries of what AI can achieve. Startups are also disrupting traditional industries with innovative AI solutions, bringing new perspectives and approaches to the table. Academic institutions play a crucial role in contributing to AI innovation, fostering collaboration and knowledge-sharing in the AI community.\n",
       "\n",
       "## Noteworthy News in AI\n",
       "\n",
       "Recent breakthroughs in AI research are paving the way for new possibilities and applications in various sectors. AI applications are making a significant impact on society, from improving healthcare outcomes to enhancing customer experiences. Regulatory developments are also shaping the future of AI, ensuring that AI technologies are developed and deployed responsibly.\n",
       "\n",
       "## Impact of AI on Society\n",
       "\n",
       "The impact of AI on society is profound, influencing how we work, communicate, and live. As AI continues to advance, it is essential to consider its implications on jobs, privacy, and social interactions. Understanding the potential benefits and challenges of AI is crucial for navigating the future landscape of technology.\n",
       "\n",
       "## Ethical Considerations in AI Development\n",
       "\n",
       "Ethical considerations in AI development are paramount, as AI technologies have the power to shape society in significant ways. From bias in AI algorithms to data privacy concerns, addressing ethical issues in AI is critical for building trust and ensuring responsible AI deployment. By prioritizing ethical considerations, we can create AI systems that benefit society as a whole.\n",
       "\n",
       "## Call to Action: Stay Informed and Engage with AI Community\n",
       "\n",
       "To stay informed about the latest trends and developments in AI, it is essential to engage with the AI community, participate in discussions, and collaborate on ethical AI practices. By staying informed and actively engaging with AI stakeholders, we can shape the future of AI in a responsible and impactful way.\n",
       "\n",
       "In conclusion, Artificial Intelligence is a dynamic and evolving field that holds immense potential for transforming industries and society as a whole. By staying informed about the latest trends, key players, and impact of AI, we can navigate the complex landscape of AI development and make informed decisions about its future. Let's embrace the opportunities that AI presents while also addressing the ethical considerations that come with it."
      ],
      "text/plain": [
       "<IPython.core.display.Markdown object>"
      ]
     },
     "execution_count": 12,
     "metadata": {},
     "output_type": "execute_result"
    }
   ],
   "source": [
    "from IPython.display import Markdown\n",
    "Markdown(result)"
   ]
  },
  {
   "cell_type": "markdown",
   "metadata": {},
   "source": [
    "## Try it Yourself\n",
    "\n",
    "- Pass in a topic of your choice and see what the agents come up with!"
   ]
  },
  {
   "cell_type": "code",
   "execution_count": 13,
   "metadata": {
    "height": 47
   },
   "outputs": [
    {
     "name": "stdout",
     "output_type": "stream",
     "text": [
      "\u001b[1m\u001b[95m [DEBUG]: == Working Agent: Content Planner\u001b[00m\n",
      "\u001b[1m\u001b[95m [INFO]: == Starting Task: 1. Prioritize the latest trends, key players, and noteworthy news on SpaDeX mission of ISRO.\n",
      "2. Identify the target audience, considering their interests and pain points.\n",
      "3. Develop a detailed content outline including an introduction, key points, and a call to action.\n",
      "4. Include SEO keywords and relevant data or sources.\u001b[00m\n",
      "\n",
      "\n",
      "\u001b[1m> Entering new CrewAgentExecutor chain...\u001b[0m\n",
      "\u001b[32;1m\u001b[1;3mI now can give a great answer\n",
      "\n",
      "Final Answer: \n",
      "\n",
      "Content Plan Document:\n",
      "\n",
      "Title: Unveiling the SpaDeX Mission of ISRO: Exploring the Latest Trends and Key Players\n",
      "\n",
      "Introduction:\n",
      "- Brief overview of the SpaDeX mission by ISRO\n",
      "- Importance of space exploration and satellite deployment for data exchange and communication\n",
      "- Mention of key players involved in the mission\n",
      "\n",
      "Key Points:\n",
      "1. Latest Trends:\n",
      "- Advancements in satellite technology for data exchange and communication\n",
      "- Increased focus on space exploration and research\n",
      "- Collaborations between ISRO and international space agencies for the SpaDeX mission\n",
      "\n",
      "2. Key Players:\n",
      "- Indian Space Research Organisation (ISRO)\n",
      "- National Aeronautics and Space Administration (NASA)\n",
      "- European Space Agency (ESA)\n",
      "- Other international space agencies and research institutions\n",
      "\n",
      "3. Noteworthy News:\n",
      "- Recent successful satellite launches by ISRO for the SpaDeX mission\n",
      "- Updates on the development and deployment of SpaDeX satellites\n",
      "- Achievements and milestones reached by the SpaDeX mission team\n",
      "\n",
      "Audience Analysis:\n",
      "- Target Audience: Space enthusiasts, technology professionals, students, and researchers interested in space exploration and satellite technology\n",
      "- Interests: Latest trends in space technology, updates on space missions, collaboration between international space agencies\n",
      "- Pain Points: Lack of information on the SpaDeX mission, limited access to reliable sources for space exploration news\n",
      "\n",
      "SEO Keywords:\n",
      "- SpaDeX mission\n",
      "- ISRO satellite technology\n",
      "- Space exploration trends\n",
      "- International space collaborations\n",
      "- Satellite data exchange\n",
      "\n",
      "Call to Action:\n",
      "- Encourage readers to stay updated on the SpaDeX mission by following official ISRO channels and reputable space news websites\n",
      "- Invite audience to participate in discussions and share their thoughts on the future of space exploration\n",
      "\n",
      "Resources:\n",
      "- ISRO official website\n",
      "- NASA official website\n",
      "- ESA official website\n",
      "- Space.com\n",
      "- The Planetary Society\n",
      "\n",
      "By following this content plan, the blog article will provide a comprehensive overview of the SpaDeX mission of ISRO, highlighting the latest trends, key players, and noteworthy news in the field of space exploration. The content will be engaging and informative for the target audience, encouraging them to stay informed and participate in discussions on the future of satellite technology and space research.\u001b[0m\n",
      "\n",
      "\u001b[1m> Finished chain.\u001b[0m\n",
      "\u001b[1m\u001b[92m [DEBUG]: == [Content Planner] Task output: Content Plan Document:\n",
      "\n",
      "Title: Unveiling the SpaDeX Mission of ISRO: Exploring the Latest Trends and Key Players\n",
      "\n",
      "Introduction:\n",
      "- Brief overview of the SpaDeX mission by ISRO\n",
      "- Importance of space exploration and satellite deployment for data exchange and communication\n",
      "- Mention of key players involved in the mission\n",
      "\n",
      "Key Points:\n",
      "1. Latest Trends:\n",
      "- Advancements in satellite technology for data exchange and communication\n",
      "- Increased focus on space exploration and research\n",
      "- Collaborations between ISRO and international space agencies for the SpaDeX mission\n",
      "\n",
      "2. Key Players:\n",
      "- Indian Space Research Organisation (ISRO)\n",
      "- National Aeronautics and Space Administration (NASA)\n",
      "- European Space Agency (ESA)\n",
      "- Other international space agencies and research institutions\n",
      "\n",
      "3. Noteworthy News:\n",
      "- Recent successful satellite launches by ISRO for the SpaDeX mission\n",
      "- Updates on the development and deployment of SpaDeX satellites\n",
      "- Achievements and milestones reached by the SpaDeX mission team\n",
      "\n",
      "Audience Analysis:\n",
      "- Target Audience: Space enthusiasts, technology professionals, students, and researchers interested in space exploration and satellite technology\n",
      "- Interests: Latest trends in space technology, updates on space missions, collaboration between international space agencies\n",
      "- Pain Points: Lack of information on the SpaDeX mission, limited access to reliable sources for space exploration news\n",
      "\n",
      "SEO Keywords:\n",
      "- SpaDeX mission\n",
      "- ISRO satellite technology\n",
      "- Space exploration trends\n",
      "- International space collaborations\n",
      "- Satellite data exchange\n",
      "\n",
      "Call to Action:\n",
      "- Encourage readers to stay updated on the SpaDeX mission by following official ISRO channels and reputable space news websites\n",
      "- Invite audience to participate in discussions and share their thoughts on the future of space exploration\n",
      "\n",
      "Resources:\n",
      "- ISRO official website\n",
      "- NASA official website\n",
      "- ESA official website\n",
      "- Space.com\n",
      "- The Planetary Society\n",
      "\n",
      "By following this content plan, the blog article will provide a comprehensive overview of the SpaDeX mission of ISRO, highlighting the latest trends, key players, and noteworthy news in the field of space exploration. The content will be engaging and informative for the target audience, encouraging them to stay informed and participate in discussions on the future of satellite technology and space research.\n",
      "\n",
      "\u001b[00m\n",
      "\u001b[1m\u001b[95m [DEBUG]: == Working Agent: Content Writer\u001b[00m\n",
      "\u001b[1m\u001b[95m [INFO]: == Starting Task: 1. Use the content plan to craft a compelling blog post on SpaDeX mission of ISRO.\n",
      "2. Incorporate SEO keywords naturally.\n",
      "3. Sections/Subtitles are properly named in an engaging manner.\n",
      "4. Ensure the post is structured with an engaging introduction, insightful body, and a summarizing conclusion.\n",
      "5. Proofread for grammatical errors and alignment with the brand's voice.\n",
      "\u001b[00m\n",
      "\n",
      "\n",
      "\u001b[1m> Entering new CrewAgentExecutor chain...\u001b[0m\n",
      "\u001b[32;1m\u001b[1;3mI now can give a great answer\n",
      "\n",
      "Final Answer:\n",
      "\n",
      "# Unveiling the SpaDeX Mission of ISRO: Exploring the Latest Trends and Key Players\n",
      "\n",
      "## Introduction\n",
      "\n",
      "The SpaDeX mission by the Indian Space Research Organisation (ISRO) is a groundbreaking endeavor that aims to push the boundaries of space exploration and satellite technology. In an era where data exchange and communication are crucial for various industries, the SpaDeX mission plays a vital role in advancing these capabilities through the deployment of innovative satellites. This mission not only showcases India's prowess in space technology but also highlights the importance of collaboration between international space agencies to achieve common goals.\n",
      "\n",
      "## Latest Trends\n",
      "\n",
      "In recent years, there have been significant advancements in satellite technology, enabling faster and more reliable data exchange and communication. The SpaDeX mission is at the forefront of these trends, leveraging cutting-edge technology to enhance the capabilities of satellites in orbit. Moreover, there has been an increased focus on space exploration and research, with a growing number of countries investing in their space programs. Collaborations between ISRO and international space agencies have become more prevalent, with joint missions like SpaDeX paving the way for future cooperation in space exploration.\n",
      "\n",
      "## Key Players\n",
      "\n",
      "The key players involved in the SpaDeX mission include the Indian Space Research Organisation (ISRO), known for its expertise in satellite technology and space exploration. Additionally, international space agencies such as the National Aeronautics and Space Administration (NASA) and the European Space Agency (ESA) play crucial roles in supporting and collaborating on the SpaDeX mission. These partnerships highlight the global nature of space exploration and the importance of working together to achieve common objectives.\n",
      "\n",
      "## Noteworthy News\n",
      "\n",
      "Recent successful satellite launches by ISRO for the SpaDeX mission have garnered attention worldwide, showcasing India's capabilities in space technology. Updates on the development and deployment of SpaDeX satellites continue to demonstrate the progress made by the mission team in achieving their goals. The achievements and milestones reached by the SpaDeX mission team serve as a testament to the dedication and expertise of all involved in this groundbreaking mission.\n",
      "\n",
      "In conclusion, the SpaDeX mission by ISRO represents a significant step forward in space exploration and satellite technology. By staying informed and engaged with the latest trends and key players in the field, space enthusiasts, technology professionals, students, and researchers can continue to support and participate in the exciting developments taking place in the world of space exploration. Stay updated on the SpaDeX mission by following official ISRO channels and reputable space news websites, and join the conversation on the future of satellite technology and space research.\u001b[0m\n",
      "\n",
      "\u001b[1m> Finished chain.\u001b[0m\n",
      "\u001b[1m\u001b[92m [DEBUG]: == [Content Writer] Task output: # Unveiling the SpaDeX Mission of ISRO: Exploring the Latest Trends and Key Players\n",
      "\n",
      "## Introduction\n",
      "\n",
      "The SpaDeX mission by the Indian Space Research Organisation (ISRO) is a groundbreaking endeavor that aims to push the boundaries of space exploration and satellite technology. In an era where data exchange and communication are crucial for various industries, the SpaDeX mission plays a vital role in advancing these capabilities through the deployment of innovative satellites. This mission not only showcases India's prowess in space technology but also highlights the importance of collaboration between international space agencies to achieve common goals.\n",
      "\n",
      "## Latest Trends\n",
      "\n",
      "In recent years, there have been significant advancements in satellite technology, enabling faster and more reliable data exchange and communication. The SpaDeX mission is at the forefront of these trends, leveraging cutting-edge technology to enhance the capabilities of satellites in orbit. Moreover, there has been an increased focus on space exploration and research, with a growing number of countries investing in their space programs. Collaborations between ISRO and international space agencies have become more prevalent, with joint missions like SpaDeX paving the way for future cooperation in space exploration.\n",
      "\n",
      "## Key Players\n",
      "\n",
      "The key players involved in the SpaDeX mission include the Indian Space Research Organisation (ISRO), known for its expertise in satellite technology and space exploration. Additionally, international space agencies such as the National Aeronautics and Space Administration (NASA) and the European Space Agency (ESA) play crucial roles in supporting and collaborating on the SpaDeX mission. These partnerships highlight the global nature of space exploration and the importance of working together to achieve common objectives.\n",
      "\n",
      "## Noteworthy News\n",
      "\n",
      "Recent successful satellite launches by ISRO for the SpaDeX mission have garnered attention worldwide, showcasing India's capabilities in space technology. Updates on the development and deployment of SpaDeX satellites continue to demonstrate the progress made by the mission team in achieving their goals. The achievements and milestones reached by the SpaDeX mission team serve as a testament to the dedication and expertise of all involved in this groundbreaking mission.\n",
      "\n",
      "In conclusion, the SpaDeX mission by ISRO represents a significant step forward in space exploration and satellite technology. By staying informed and engaged with the latest trends and key players in the field, space enthusiasts, technology professionals, students, and researchers can continue to support and participate in the exciting developments taking place in the world of space exploration. Stay updated on the SpaDeX mission by following official ISRO channels and reputable space news websites, and join the conversation on the future of satellite technology and space research.\n",
      "\n",
      "\u001b[00m\n",
      "\u001b[1m\u001b[95m [DEBUG]: == Working Agent: Editor\u001b[00m\n",
      "\u001b[1m\u001b[95m [INFO]: == Starting Task: Proofread the given blog post for grammatical errors and alignment with the brand's voice.\u001b[00m\n",
      "\n",
      "\n",
      "\u001b[1m> Entering new CrewAgentExecutor chain...\u001b[0m\n"
     ]
    },
    {
     "name": "stdout",
     "output_type": "stream",
     "text": [
      "\u001b[32;1m\u001b[1;3mI now can give a great answer\n",
      "\n",
      "Final Answer:\n",
      "\n",
      "# Unveiling the SpaDeX Mission of ISRO: Exploring the Latest Trends and Key Players\n",
      "\n",
      "## Introduction\n",
      "\n",
      "The SpaDeX mission by the Indian Space Research Organisation (ISRO) is a groundbreaking endeavor that aims to push the boundaries of space exploration and satellite technology. In an era where data exchange and communication are crucial for various industries, the SpaDeX mission plays a vital role in advancing these capabilities through the deployment of innovative satellites. This mission not only showcases India's prowess in space technology but also highlights the importance of collaboration between international space agencies to achieve common goals.\n",
      "\n",
      "## Latest Trends\n",
      "\n",
      "In recent years, there have been significant advancements in satellite technology, enabling faster and more reliable data exchange and communication. The SpaDeX mission is at the forefront of these trends, leveraging cutting-edge technology to enhance the capabilities of satellites in orbit. Moreover, there has been an increased focus on space exploration and research, with a growing number of countries investing in their space programs. Collaborations between ISRO and international space agencies have become more prevalent, with joint missions like SpaDeX paving the way for future cooperation in space exploration.\n",
      "\n",
      "## Key Players\n",
      "\n",
      "The key players involved in the SpaDeX mission include the Indian Space Research Organisation (ISRO), known for its expertise in satellite technology and space exploration. Additionally, international space agencies such as the National Aeronautics and Space Administration (NASA) and the European Space Agency (ESA) play crucial roles in supporting and collaborating on the SpaDeX mission. These partnerships highlight the global nature of space exploration and the importance of working together to achieve common objectives.\n",
      "\n",
      "## Noteworthy News\n",
      "\n",
      "Recent successful satellite launches by ISRO for the SpaDeX mission have garnered attention worldwide, showcasing India's capabilities in space technology. Updates on the development and deployment of SpaDeX satellites continue to demonstrate the progress made by the mission team in achieving their goals. The achievements and milestones reached by the SpaDeX mission team serve as a testament to the dedication and expertise of all involved in this groundbreaking mission.\n",
      "\n",
      "In conclusion, the SpaDeX mission by ISRO represents a significant step forward in space exploration and satellite technology. By staying informed and engaged with the latest trends and key players in the field, space enthusiasts, technology professionals, students, and researchers can continue to support and participate in the exciting developments taking place in the world of space exploration. Stay updated on the SpaDeX mission by following official ISRO channels and reputable space news websites, and join the conversation on the future of satellite technology and space research.\u001b[0m\n",
      "\n",
      "\u001b[1m> Finished chain.\u001b[0m\n",
      "\u001b[1m\u001b[92m [DEBUG]: == [Editor] Task output: # Unveiling the SpaDeX Mission of ISRO: Exploring the Latest Trends and Key Players\n",
      "\n",
      "## Introduction\n",
      "\n",
      "The SpaDeX mission by the Indian Space Research Organisation (ISRO) is a groundbreaking endeavor that aims to push the boundaries of space exploration and satellite technology. In an era where data exchange and communication are crucial for various industries, the SpaDeX mission plays a vital role in advancing these capabilities through the deployment of innovative satellites. This mission not only showcases India's prowess in space technology but also highlights the importance of collaboration between international space agencies to achieve common goals.\n",
      "\n",
      "## Latest Trends\n",
      "\n",
      "In recent years, there have been significant advancements in satellite technology, enabling faster and more reliable data exchange and communication. The SpaDeX mission is at the forefront of these trends, leveraging cutting-edge technology to enhance the capabilities of satellites in orbit. Moreover, there has been an increased focus on space exploration and research, with a growing number of countries investing in their space programs. Collaborations between ISRO and international space agencies have become more prevalent, with joint missions like SpaDeX paving the way for future cooperation in space exploration.\n",
      "\n",
      "## Key Players\n",
      "\n",
      "The key players involved in the SpaDeX mission include the Indian Space Research Organisation (ISRO), known for its expertise in satellite technology and space exploration. Additionally, international space agencies such as the National Aeronautics and Space Administration (NASA) and the European Space Agency (ESA) play crucial roles in supporting and collaborating on the SpaDeX mission. These partnerships highlight the global nature of space exploration and the importance of working together to achieve common objectives.\n",
      "\n",
      "## Noteworthy News\n",
      "\n",
      "Recent successful satellite launches by ISRO for the SpaDeX mission have garnered attention worldwide, showcasing India's capabilities in space technology. Updates on the development and deployment of SpaDeX satellites continue to demonstrate the progress made by the mission team in achieving their goals. The achievements and milestones reached by the SpaDeX mission team serve as a testament to the dedication and expertise of all involved in this groundbreaking mission.\n",
      "\n",
      "In conclusion, the SpaDeX mission by ISRO represents a significant step forward in space exploration and satellite technology. By staying informed and engaged with the latest trends and key players in the field, space enthusiasts, technology professionals, students, and researchers can continue to support and participate in the exciting developments taking place in the world of space exploration. Stay updated on the SpaDeX mission by following official ISRO channels and reputable space news websites, and join the conversation on the future of satellite technology and space research.\n",
      "\n",
      "\u001b[00m\n"
     ]
    }
   ],
   "source": [
    "topic = \"SpaDeX mission of ISRO\"\n",
    "result = crew.kickoff(inputs={\"topic\": topic})"
   ]
  },
  {
   "cell_type": "code",
   "execution_count": 14,
   "metadata": {
    "height": 30
   },
   "outputs": [
    {
     "data": {
      "text/markdown": [
       "# Unveiling the SpaDeX Mission of ISRO: Exploring the Latest Trends and Key Players\n",
       "\n",
       "## Introduction\n",
       "\n",
       "The SpaDeX mission by the Indian Space Research Organisation (ISRO) is a groundbreaking endeavor that aims to push the boundaries of space exploration and satellite technology. In an era where data exchange and communication are crucial for various industries, the SpaDeX mission plays a vital role in advancing these capabilities through the deployment of innovative satellites. This mission not only showcases India's prowess in space technology but also highlights the importance of collaboration between international space agencies to achieve common goals.\n",
       "\n",
       "## Latest Trends\n",
       "\n",
       "In recent years, there have been significant advancements in satellite technology, enabling faster and more reliable data exchange and communication. The SpaDeX mission is at the forefront of these trends, leveraging cutting-edge technology to enhance the capabilities of satellites in orbit. Moreover, there has been an increased focus on space exploration and research, with a growing number of countries investing in their space programs. Collaborations between ISRO and international space agencies have become more prevalent, with joint missions like SpaDeX paving the way for future cooperation in space exploration.\n",
       "\n",
       "## Key Players\n",
       "\n",
       "The key players involved in the SpaDeX mission include the Indian Space Research Organisation (ISRO), known for its expertise in satellite technology and space exploration. Additionally, international space agencies such as the National Aeronautics and Space Administration (NASA) and the European Space Agency (ESA) play crucial roles in supporting and collaborating on the SpaDeX mission. These partnerships highlight the global nature of space exploration and the importance of working together to achieve common objectives.\n",
       "\n",
       "## Noteworthy News\n",
       "\n",
       "Recent successful satellite launches by ISRO for the SpaDeX mission have garnered attention worldwide, showcasing India's capabilities in space technology. Updates on the development and deployment of SpaDeX satellites continue to demonstrate the progress made by the mission team in achieving their goals. The achievements and milestones reached by the SpaDeX mission team serve as a testament to the dedication and expertise of all involved in this groundbreaking mission.\n",
       "\n",
       "In conclusion, the SpaDeX mission by ISRO represents a significant step forward in space exploration and satellite technology. By staying informed and engaged with the latest trends and key players in the field, space enthusiasts, technology professionals, students, and researchers can continue to support and participate in the exciting developments taking place in the world of space exploration. Stay updated on the SpaDeX mission by following official ISRO channels and reputable space news websites, and join the conversation on the future of satellite technology and space research."
      ],
      "text/plain": [
       "<IPython.core.display.Markdown object>"
      ]
     },
     "execution_count": 14,
     "metadata": {},
     "output_type": "execute_result"
    }
   ],
   "source": [
    "Markdown(result)"
   ]
  },
  {
   "cell_type": "markdown",
   "metadata": {},
   "source": [
    "<a name='1'></a>\n",
    " ## Other Popular Models as LLM for your Agents"
   ]
  },
  {
   "cell_type": "markdown",
   "metadata": {},
   "source": [
    "#### Hugging Face (HuggingFaceHub endpoint)\n",
    "\n",
    "```Python\n",
    "from langchain_community.llms import HuggingFaceHub\n",
    "\n",
    "llm = HuggingFaceHub(\n",
    "    repo_id=\"HuggingFaceH4/zephyr-7b-beta\",\n",
    "    huggingfacehub_api_token=\"<HF_TOKEN_HERE>\",\n",
    "    task=\"text-generation\",\n",
    ")\n",
    "\n",
    "### you will pass \"llm\" to your agent function\n",
    "```"
   ]
  },
  {
   "cell_type": "markdown",
   "metadata": {},
   "source": [
    "#### Mistral API\n",
    "\n",
    "```Python\n",
    "OPENAI_API_KEY=your-mistral-api-key\n",
    "OPENAI_API_BASE=https://api.mistral.ai/v1\n",
    "OPENAI_MODEL_NAME=\"mistral-small\"\n",
    "```"
   ]
  },
  {
   "cell_type": "markdown",
   "metadata": {},
   "source": [
    "#### Cohere\n",
    "\n",
    "```Python\n",
    "from langchain_community.chat_models import ChatCohere\n",
    "# Initialize language model\n",
    "os.environ[\"COHERE_API_KEY\"] = \"your-cohere-api-key\"\n",
    "llm = ChatCohere()\n",
    "\n",
    "### you will pass \"llm\" to your agent function\n",
    "```"
   ]
  },
  {
   "cell_type": "markdown",
   "metadata": {},
   "source": [
    "### For using Llama locally with Ollama and more, checkout the crewAI documentation on [Connecting to any LLM](https://docs.crewai.com/how-to/LLM-Connections/)."
   ]
  },
  {
   "cell_type": "code",
   "execution_count": null,
   "metadata": {
    "height": 30
   },
   "outputs": [],
   "source": []
  },
  {
   "cell_type": "code",
   "execution_count": null,
   "metadata": {
    "height": 30
   },
   "outputs": [],
   "source": []
  },
  {
   "cell_type": "code",
   "execution_count": null,
   "metadata": {
    "height": 30
   },
   "outputs": [],
   "source": []
  }
 ],
 "metadata": {
  "colab": {
   "gpuType": "T4",
   "provenance": []
  },
  "kernelspec": {
   "display_name": "Python 3 (ipykernel)",
   "language": "python",
   "name": "python3"
  },
  "language_info": {
   "codemirror_mode": {
    "name": "ipython",
    "version": 3
   },
   "file_extension": ".py",
   "mimetype": "text/x-python",
   "name": "python",
   "nbconvert_exporter": "python",
   "pygments_lexer": "ipython3",
   "version": "3.11.9"
  }
 },
 "nbformat": 4,
 "nbformat_minor": 4
}
